{
 "cells": [
  {
   "cell_type": "markdown",
   "metadata": {},
   "source": [
    "## Tranforming and gridding JULES data\n",
    "\n",
    "Using vegetation cover from JULES: this first requires the data to be transformed from .csv to .nc files. I've adaptedt the jules library to work with python3 (hopefully!).python2"
   ]
  },
  {
   "cell_type": "code",
   "execution_count": 1,
   "metadata": {},
   "outputs": [],
   "source": [
    "%load_ext autoreload\n",
    "%autoreload\n",
    "\n",
    "import sys\n",
    "sys.path.append('../')\n",
    "\n",
    "import warnings\n",
    "warnings.filterwarnings('ignore')\n",
    "\n",
    "import os\n",
    "from   io     import StringIO\n",
    "import numpy  as np\n",
    "import pandas as pd\n",
    "import csv\n",
    "\n",
    "import iris\n",
    "import matplotlib.pyplot as plt\n",
    "import iris.plot as iplt\n",
    "import iris.quickplot as qplt\n",
    "import iris.coord_categorisation\n",
    "import cftime\n",
    "import nc_time_axis\n",
    "import numpy.ma as ma\n",
    "%matplotlib inline\n",
    "import cartopy.crs as ccrs\n",
    "from   libs.plot_maps    import *\n",
    "from libs import jules3"
   ]
  },
  {
   "cell_type": "code",
   "execution_count": 4,
   "metadata": {},
   "outputs": [
    {
     "name": "stdout",
     "output_type": "stream",
     "text": [
      "2000\n",
      "2001\n",
      "2002\n",
      "2003\n",
      "2004\n",
      "2005\n",
      "2006\n",
      "2007\n",
      "2008\n",
      "2009\n"
     ]
    }
   ],
   "source": [
    "# Location of juels data and core name of the file\n",
    "dir = '../data/jules/'\n",
    "file = 'JULES-ES.1p0.vn5.4.50.GSWP3.365.S3.Monthly.'\n",
    "\n",
    "# Where it will be saved\n",
    "outfile = '../data/UKESM/retrieved_codes/2000-2009/'\n",
    "\n",
    "\n",
    "aList = []\n",
    "years = range(2000,2010)\n",
    "\n",
    "# For a single year\n",
    "# df1 = jules.load(dir + file + '2000' + '.nc', 'Fractional cover of each surface type')\n",
    "\n",
    "for y in years:\n",
    "    df = jules.load(dir + file + str(y) + '.nc', 'Fractional cover of each surface type')\n",
    "    print(y)\n",
    "    aList.append(df[0])   "
   ]
  },
  {
   "cell_type": "markdown",
   "metadata": {},
   "source": [
    "Merging the list together."
   ]
  },
  {
   "cell_type": "code",
   "execution_count": 5,
   "metadata": {},
   "outputs": [
    {
     "name": "stdout",
     "output_type": "stream",
     "text": [
      "DimCoord(array([ 0,  1,  2,  3,  4,  5,  6,  7,  8,  9, 10, 11, 12, 13, 14, 15, 16]), standard_name=None, units=Unit('1'), long_name='type')\n"
     ]
    }
   ],
   "source": [
    "cube_list = iris.cube.CubeList(aList)\n",
    "cubes = cube_list.concatenate_cube()\n",
    "\n",
    "print(cubes.coord('type'))"
   ]
  },
  {
   "cell_type": "markdown",
   "metadata": {},
   "source": [
    "Need to add a coord_system to jules data, and then regrid it"
   ]
  },
  {
   "cell_type": "code",
   "execution_count": 6,
   "metadata": {},
   "outputs": [],
   "source": [
    "# Template\n",
    "dir_m = \"../data/UKESM/retrieved_codes/2000-2009/\"\n",
    "file_m = 'vegcover' + \"2000-2009.nc\"\n",
    "\n",
    "# And load it in:\n",
    "mask = iris.load_cube(dir_m + file_m)\n",
    "\n",
    "cubes.coord('latitude').coord_system = mask.coord('latitude').coord_system\n",
    "cubes.coord('longitude').coord_system = mask.coord('longitude').coord_system\n",
    "regrid_cube = cubes.regrid(mask, iris.analysis.Linear(extrapolation_mode ='nan'))"
   ]
  },
  {
   "cell_type": "markdown",
   "metadata": {},
   "source": [
    "Extracting vegcover and treecover. This can easily be adapted to also extract pasture and cropland, if the ``var_type`` number of the different veg fraction is known."
   ]
  },
  {
   "cell_type": "code",
   "execution_count": 14,
   "metadata": {},
   "outputs": [
    {
     "name": "stdout",
     "output_type": "stream",
     "text": [
      "[0, 1, 2, 3, 4]\n"
     ]
    }
   ],
   "source": [
    "tree = list(range(5))\n",
    "veg = list(range(13))\n",
    "var_name = ['treeCover', 'vegcover']\n",
    "var_type = [tree, veg]\n",
    "print(var_type[0])"
   ]
  },
  {
   "cell_type": "markdown",
   "metadata": {},
   "source": [
    "Reformatting the Jules data and saving it as a netcdf."
   ]
  },
  {
   "cell_type": "code",
   "execution_count": 15,
   "metadata": {},
   "outputs": [],
   "source": [
    "for n in range(len(var_name)):\n",
    "\n",
    "    index = [regrid_cube.coord('type').points == x  for x in var_type[n]]\n",
    "\n",
    "    # This combines all the boolean arrays together. True + False = True\n",
    "    index = np.any(index, axis = 0)\n",
    "\n",
    "    # Extracts just the layers we want and saves\n",
    "    cube = regrid_cube[:,index]\n",
    "\n",
    "    # For just using from July 2000 to Jun 2014, but we don't have 2014...\n",
    "    # Just taking the off the first 6 months\n",
    "    cube = cube[6:,:,:,:].collapsed(['type'], iris.analysis.SUM)\n",
    "    \n",
    "    cube_copy = mask.copy()\n",
    "    cube_copy.data = cube.data\n",
    "    \n",
    "    out = outfile + 'jules_' + var_name[n] + str(years[0]) + '-' + str(years[len(years) - 1]) + '.nc'\n",
    "    iris.save(cube_copy, out)"
   ]
  },
  {
   "cell_type": "code",
   "execution_count": null,
   "metadata": {},
   "outputs": [],
   "source": []
  }
 ],
 "metadata": {
  "kernelspec": {
   "display_name": "Python 3",
   "language": "python",
   "name": "python3"
  },
  "language_info": {
   "codemirror_mode": {
    "name": "ipython",
    "version": 3
   },
   "file_extension": ".py",
   "mimetype": "text/x-python",
   "name": "python",
   "nbconvert_exporter": "python",
   "pygments_lexer": "ipython3",
   "version": "3.7.4"
  }
 },
 "nbformat": 4,
 "nbformat_minor": 4
}
