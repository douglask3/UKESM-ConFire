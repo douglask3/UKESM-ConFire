{
 "cells": [
  {
   "cell_type": "markdown",
   "metadata": {},
   "source": [
    "## Tranforming and gridding JULES data\n",
    "\n",
    "Using vegetation cover from JULES: this first requires the data to be transformed from .csv to .nc files. The jules library only works on python2"
   ]
  },
  {
   "cell_type": "code",
   "execution_count": 1,
   "metadata": {},
   "outputs": [],
   "source": [
    "%load_ext autoreload\n",
    "%autoreload\n",
    "\n",
    "import sys\n",
    "sys.path.append('../')\n",
    "\n",
    "import warnings\n",
    "warnings.filterwarnings('ignore')\n",
    "\n",
    "import os\n",
    "from   io     import StringIO\n",
    "import numpy  as np\n",
    "import pandas as pd\n",
    "import csv\n",
    "\n",
    "import iris\n",
    "import matplotlib.pyplot as plt\n",
    "import iris.plot as iplt\n",
    "import iris.quickplot as qplt\n",
    "import iris.coord_categorisation\n",
    "import cftime\n",
    "import nc_time_axis\n",
    "import numpy.ma as ma\n",
    "%matplotlib inline\n",
    "import cartopy.crs as ccrs\n",
    "from   libs.plot_maps    import *\n",
    "from libs import jules"
   ]
  },
  {
   "cell_type": "code",
   "execution_count": 25,
   "metadata": {},
   "outputs": [
    {
     "name": "stdout",
     "output_type": "stream",
     "text": [
      "2000\n",
      "2001\n",
      "2002\n",
      "2003\n",
      "2004\n",
      "2005\n",
      "2006\n",
      "2007\n",
      "2008\n",
      "2009\n"
     ]
    }
   ],
   "source": [
    "dir = '../data/jules/'\n",
    "\n",
    "file = 'JULES-ES.1p0.vn5.4.50.GSWP3.365.S3.Monthly.'\n",
    "outfile = '../data/UKESM/retrieved_codes/2000-2009/'\n",
    "aList = []\n",
    "years = range(2000,2010)\n",
    "\n",
    "# df1 = jules.load(dir + file + '2000' + '.nc', 'Fractional cover of each surface type')\n",
    "\n",
    "for y in years:\n",
    "    df = jules.load(dir + file + str(y) + '.nc', 'Fractional cover of each surface type')\n",
    "    print(y)\n",
    "    aList.append(df[0])   "
   ]
  },
  {
   "cell_type": "code",
   "execution_count": 26,
   "metadata": {},
   "outputs": [
    {
     "name": "stdout",
     "output_type": "stream",
     "text": [
      "DimCoord(array([ 0,  1,  2,  3,  4,  5,  6,  7,  8,  9, 10, 11, 12, 13, 14, 15, 16]), standard_name=None, units=Unit('1'), long_name='type')\n"
     ]
    }
   ],
   "source": [
    "cube_list = iris.cube.CubeList(aList)\n",
    "cubes = cube_list.concatenate_cube()\n",
    "\n",
    "print(cubes.coord('type'))"
   ]
  },
  {
   "cell_type": "markdown",
   "metadata": {},
   "source": [
    "Extracting treecover"
   ]
  },
  {
   "cell_type": "code",
   "execution_count": 27,
   "metadata": {},
   "outputs": [
    {
     "name": "stdout",
     "output_type": "stream",
     "text": [
      "[0, 1, 2, 3, 4]\n"
     ]
    }
   ],
   "source": [
    "tree = list(range(5))\n",
    "veg = list(range(13))\n",
    "print(tree)"
   ]
  },
  {
   "cell_type": "code",
   "execution_count": 31,
   "metadata": {},
   "outputs": [
    {
     "name": "stdout",
     "output_type": "stream",
     "text": [
      "[ True  True  True  True  True False False False False False False False\n",
      " False False False False False]\n"
     ]
    }
   ],
   "source": [
    "index = [cubes.coord('type').points == x  for x in tree]\n",
    "\n",
    "# This combines all the boolean arrays together. True + False = True\n",
    "index = np.any(index, axis = 0)\n",
    "print(index)\n",
    "\n",
    "# Extracts just the layers we want and saves\n",
    "cube = cubes[:,index]\n",
    "\n",
    "# For just using from July 2000 to Jun 2014, but we don't have 2014...\n",
    "# Just taking the off the first 6 months\n",
    "\n",
    "cube = cube[6:,:,:,:].collapsed(['type'], iris.analysis.SUM)\n",
    "out = outfile + 'jules_treeCover' + str(years[0]) + '-' + str(years[len(years) - 1]) + '.nc'\n",
    "iris.save(cube, out)"
   ]
  },
  {
   "cell_type": "markdown",
   "metadata": {},
   "source": [
    "Extracting vegcover"
   ]
  },
  {
   "cell_type": "code",
   "execution_count": 30,
   "metadata": {},
   "outputs": [
    {
     "name": "stdout",
     "output_type": "stream",
     "text": [
      "[ True  True  True  True  True  True  True  True  True  True  True  True\n",
      "  True False False False False]\n"
     ]
    }
   ],
   "source": [
    "index = [cubes.coord('type').points == x  for x in veg]\n",
    "\n",
    "# This combines all the boolean arrays together. True + False = True\n",
    "index = np.any(index, axis = 0)\n",
    "print(index)\n",
    "\n",
    "# Extracts just the layers we want and saves\n",
    "cube = cubes[:,index]\n",
    "\n",
    "# For just using from July 2000 to Jun 2014, but we don't have 2014...\n",
    "# Just taking the off the first 6 months\n",
    "\n",
    "cube = cube[6:-6,:,:,:].collapsed(['type'], iris.analysis.SUM)\n",
    "out = outfile + 'jules_vegcover' + str(years[0]) + '-' +  str(years[len(years) - 1]) + '.nc'\n",
    "iris.save(cube, out)"
   ]
  },
  {
   "cell_type": "code",
   "execution_count": null,
   "metadata": {},
   "outputs": [],
   "source": []
  }
 ],
 "metadata": {
  "kernelspec": {
   "display_name": "Python 3",
   "language": "python",
   "name": "python3"
  },
  "language_info": {
   "codemirror_mode": {
    "name": "ipython",
    "version": 3
   },
   "file_extension": ".py",
   "mimetype": "text/x-python",
   "name": "python",
   "nbconvert_exporter": "python",
   "pygments_lexer": "ipython3",
   "version": "3.7.4"
  }
 },
 "nbformat": 4,
 "nbformat_minor": 4
}
