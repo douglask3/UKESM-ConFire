{
 "cells": [
  {
   "cell_type": "markdown",
   "metadata": {},
   "source": [
    "## Tranforming and gridding JULES data\n",
    "\n",
    "Using vegetation cover from JULES: this first requires the data to be transformed from .csv to .nc files. The jules library only works on python2"
   ]
  },
  {
   "cell_type": "code",
   "execution_count": 2,
   "metadata": {},
   "outputs": [],
   "source": [
    "%load_ext autoreload\n",
    "%autoreload\n",
    "\n",
    "import sys\n",
    "sys.path.append('../')\n",
    "\n",
    "import warnings\n",
    "warnings.filterwarnings('ignore')\n",
    "\n",
    "import os\n",
    "from   io     import StringIO\n",
    "import numpy  as np\n",
    "import pandas as pd\n",
    "import csv\n",
    "\n",
    "import iris\n",
    "import matplotlib.pyplot as plt\n",
    "import iris.plot as iplt\n",
    "import iris.quickplot as qplt\n",
    "import iris.coord_categorisation\n",
    "import cftime\n",
    "import nc_time_axis\n",
    "import numpy.ma as ma\n",
    "%matplotlib inline\n",
    "import cartopy.crs as ccrs\n",
    "from   libs.plot_maps    import *\n",
    "from libs import jules"
   ]
  },
  {
   "cell_type": "code",
   "execution_count": 64,
   "metadata": {},
   "outputs": [],
   "source": [
    "dir = '../data/jules/'\n",
    "\n",
    "file = 'JULES-ES.1p0.vn5.4.50.GSWP3.365.S3.Monthly.'\n",
    "outfile = '../data/UKESM/retrieved_codes/jul2000-jun2014/'\n",
    "aList = []\n",
    "\n",
    "for y in range(2000,2015):\n",
    "    df = jules.load(dir + file + str(y) + '.nc', 'Fractional cover of each surface type')\n",
    "    aList.append(df[0])"
   ]
  },
  {
   "cell_type": "code",
   "execution_count": 69,
   "metadata": {},
   "outputs": [
    {
     "name": "stdout",
     "output_type": "stream",
     "text": [
      "DimCoord(array([ 0,  1,  2,  3,  4,  5,  6,  7,  8,  9, 10, 11, 12, 13, 14, 15, 16]), standard_name=None, units=Unit('1'), long_name='type')\n"
     ]
    }
   ],
   "source": [
    "cube_list = iris.cube.CubeList(aList)\n",
    "cubes = cube_list.concatenate_cube()\n",
    "\n",
    "print(cubes.coord('type'))"
   ]
  },
  {
   "cell_type": "markdown",
   "metadata": {},
   "source": [
    "Extracting treecover"
   ]
  },
  {
   "cell_type": "code",
   "execution_count": 75,
   "metadata": {},
   "outputs": [
    {
     "name": "stdout",
     "output_type": "stream",
     "text": [
      "[0, 1, 2, 3, 4]\n"
     ]
    },
    {
     "data": {
      "text/plain": [
       "array([ 0,  1,  2,  3,  4,  5,  6,  7,  8,  9, 10, 11, 12, 13, 14, 15, 16])"
      ]
     },
     "execution_count": 75,
     "metadata": {},
     "output_type": "execute_result"
    }
   ],
   "source": [
    "tree = list(range(5))\n",
    "veg = list(range(13))\n",
    "print(tree)"
   ]
  },
  {
   "cell_type": "code",
   "execution_count": 76,
   "metadata": {},
   "outputs": [
    {
     "name": "stdout",
     "output_type": "stream",
     "text": [
      "[ True  True  True  True  True False False False False False False False\n",
      " False False False False False]\n"
     ]
    }
   ],
   "source": [
    "index = [cubes.coord('type').points == x  for x in tree]\n",
    "\n",
    "# This combines all the boolean arrays together. True + False = True\n",
    "index = np.any(index, axis = 0)\n",
    "print(index)\n",
    "\n",
    "# Extracts just the layers we want and saves\n",
    "cube = cubes[:,index]\n",
    "\n",
    "# For just using from July 2000 to Jun 2014, but we don't have 2014...\n",
    "# Just taking the off the first 6 months\n",
    "\n",
    "cube = cube[6:-6,:,:,:].collapsed(['type'], iris.analysis.SUM)\n",
    "out = outfile + 'jules_treeCover2000-2014.nc'\n",
    "iris.save(cube, out)"
   ]
  },
  {
   "cell_type": "markdown",
   "metadata": {},
   "source": [
    "Extracting vegcover"
   ]
  },
  {
   "cell_type": "code",
   "execution_count": null,
   "metadata": {},
   "outputs": [],
   "source": [
    "index = [cubes.coord('type').points == x  for x in veg]\n",
    "\n",
    "# This combines all the boolean arrays together. True + False = True\n",
    "index = np.any(index, axis = 0)\n",
    "print(index)\n",
    "\n",
    "# Extracts just the layers we want and saves\n",
    "cube = cubes[:,index]\n",
    "\n",
    "# For just using from July 2000 to Jun 2014, but we don't have 2014...\n",
    "# Just taking the off the first 6 months\n",
    "\n",
    "cube = cube[6:-6,:,:,:].collapsed(['type'], iris.analysis.SUM)\n",
    "out = outfile + 'jules_vegcover2000-2014.nc'\n",
    "iris.save(cube, out)"
   ]
  }
 ],
 "metadata": {
  "kernelspec": {
   "display_name": "Python 3",
   "language": "python",
   "name": "python3"
  },
  "language_info": {
   "codemirror_mode": {
    "name": "ipython",
    "version": 3
   },
   "file_extension": ".py",
   "mimetype": "text/x-python",
   "name": "python",
   "nbconvert_exporter": "python",
   "pygments_lexer": "ipython3",
   "version": "3.7.4"
  }
 },
 "nbformat": 4,
 "nbformat_minor": 4
}
