{
 "cells": [
  {
   "cell_type": "markdown",
   "metadata": {},
   "source": [
    "# Stash codes"
   ]
  },
  {
   "cell_type": "code",
   "execution_count": 2,
   "metadata": {},
   "outputs": [
    {
     "name": "stderr",
     "output_type": "stream",
     "text": [
      "/home/meganbrown/miniconda3/envs/uvis_env/lib/python3.6/site-packages/dask/config.py:131: YAMLLoadWarning: calling yaml.load() without Loader=... is deprecated, as the default Loader is unsafe. Please read https://msg.pyyaml.org/load for full details.\n",
      "  data = yaml.load(f.read()) or {}\n"
     ]
    }
   ],
   "source": [
    "# Remember: use ceh conda environment\n",
    "\n",
    "%load_ext autoreload\n",
    "%autoreload\n",
    "\n",
    "import iris\n",
    "import matplotlib.pyplot as plt\n",
    "import warnings\n",
    "import numpy as np\n",
    "import pandas as pd\n",
    "\n",
    "warnings.filterwarnings('ignore')"
   ]
  },
  {
   "cell_type": "markdown",
   "metadata": {},
   "source": [
    "## Set variables\n",
    "\n",
    "For now, I'm removing the variables which I can't find in either apt4 or apt5"
   ]
  },
  {
   "cell_type": "code",
   "execution_count": 16,
   "metadata": {},
   "outputs": [
    {
     "name": "stdout",
     "output_type": "stream",
     "text": [
      "['bc179a.p52000jan.pp', 'bc179a.p52000feb.pp', 'bc179a.p52000mar.pp', 'bc179a.p52000apr.pp', 'bc179a.p52000may.pp', 'bc179a.p52000jun.pp', 'bc179a.p52000aug.pp', 'bc179a.p52000sep.pp', 'bc179a.p52000oct.pp', 'bc179a.p52000nov.pp', 'bc179a.p52000dec.pp']\n",
      "bc179a.p52000jan.pp\n"
     ]
    }
   ],
   "source": [
    "# Loading in data from year 2000, ap5\n",
    "dir = '../data/UKESM/historic_1/'\n",
    "year = '2000'\n",
    "files = []\n",
    "\n",
    "for month in months:\n",
    "    files.append('bc179a.p5' + year + month +'.pp')\n",
    " \n",
    "\n",
    "print(files)\n",
    "print(files[0])"
   ]
  },
  {
   "cell_type": "code",
   "execution_count": 18,
   "metadata": {},
   "outputs": [],
   "source": [
    "# calculating alphaMax\n",
    "f = files [0]\n",
    "\n",
    "#for f in files:\n",
    "stash_constraint = iris.AttributeConstraint(STASH = 'm01s08i223')\n",
    "cube_alpha = iris.load_cube(dir + f, stash_constraint)\n",
    "    \n",
    "index_soil = [cube_alpha.coord('depth').points == 0.05]\n",
    "index_soil = np.any(index_soil, axis = 0) # Still keep this in - it makes the cube happy\n",
    "cube_soil = cube_alpha[index_soil]"
   ]
  },
  {
   "cell_type": "code",
   "execution_count": 19,
   "metadata": {},
   "outputs": [
    {
     "name": "stdout",
     "output_type": "stream",
     "text": [
      "moisture_content_of_soil_layer / (kg m-2) (depth: 1; latitude: 144; longitude: 192)\n",
      "     Dimension coordinates:\n",
      "          depth                                 x            -               -\n",
      "          latitude                              -            x               -\n",
      "          longitude                             -            -               x\n",
      "     Scalar coordinates:\n",
      "          forecast_period: 1296360.0 hours, bound=(1296000.0, 1296720.0) hours\n",
      "          forecast_reference_time: 1850-01-01 00:00:00\n",
      "          time: 2000-01-16 00:00:00, bound=(2000-01-01 00:00:00, 2000-02-01 00:00:00)\n",
      "     Attributes:\n",
      "          STASH: m01s08i223\n",
      "          source: Data from Met Office Unified Model\n",
      "          um_version: 10.9\n",
      "     Cell methods:\n",
      "          mean: time (1 hour)\n"
     ]
    }
   ],
   "source": [
    "print(cube_soil)\n",
    "# we need to merge the cubes of the past 12 months \n",
    "# first we need to make a cubelist\n",
    "# use cubes.merge_cube() to merge all the cubes into a single one. Note that all attributes must be the same\n"
   ]
  },
  {
   "cell_type": "code",
   "execution_count": 2,
   "metadata": {},
   "outputs": [],
   "source": [
    "dir = '../data/'\n",
    "file = 'bc179a.p41930oct.pp'\n",
    "file2 = 'bc179a.p51929oct.pp'\n",
    "file3 = 'bc179a.p41929oct.pp'\n",
    "\n",
    "stash_conFIRE = {'vegcover'           : 'm01s03i317',\n",
    "                 'alpha'              : 'm01s08i223',\n",
    "#                'emc'                : 'm01s03i245',\n",
    "#                'treeCover'          : 'm01s03i317', # same as vegcover\n",
    "                 'lightning'          : 'm01s50i082',\n",
    "#                'pasture'            : 'm01s00i458',\n",
    "#                'population_density' : 'population_density2000-2014.nc',\n",
    "                 'relative_humidity'  : 'm01s03i245'}\n",
    "#                'cropland'           : 'm01s00i448'}\n",
    "\n",
    "# cube list\n",
    "list_of_stash_ap4 = []\n",
    "list_of_stash_ap5 = []\n",
    "\n",
    "#cl_ap4 = iris.load(dir + file3)\n",
    "#cl_ap5 = iris.load(dir + file2)"
   ]
  },
  {
   "cell_type": "markdown",
   "metadata": {},
   "source": [
    "#### Checking to see if STASH codes match any in the file\n",
    "Uncomment last two lines in previous cell to run"
   ]
  },
  {
   "cell_type": "code",
   "execution_count": 108,
   "metadata": {},
   "outputs": [
    {
     "name": "stdout",
     "output_type": "stream",
     "text": [
      "vegcover in ap5\n",
      "lightning in ap5\n",
      "alpha in ap5\n",
      "relative_humidity in ap5\n"
     ]
    }
   ],
   "source": [
    "#print(c.attributes['STASH'])\n",
    "\n",
    "i = 0\n",
    "for c5 in cl_ap5:\n",
    "    c5 = cl_ap5[i]\n",
    "    for name, dat in stash_conFIRE.items():\n",
    "        if c5.attributes[\"STASH\"] == dat:\n",
    "            print(name + \" in ap5\")\n",
    "    i += 1\n",
    "\n",
    "j = 0\n",
    "for c4 in cl_ap4:\n",
    "    c4 = cl_ap4[j]\n",
    "    for name, dat in stash_conFIRE.items():\n",
    "        if c4.attributes[\"STASH\"] == dat:\n",
    "            print(name + \" in ap4\")\n",
    "    j += 1"
   ]
  },
  {
   "cell_type": "markdown",
   "metadata": {},
   "source": [
    "## Variable location:\n",
    "\n",
    "### ap5\n",
    "\n",
    "* ``vegcover``\n",
    "* ``treecover``\n",
    "* ``alpha``\n",
    "* ``relative_humdity``\n",
    "* ``lightning``\n",
    "* `pasture`\n",
    "* `cropland`\n",
    "\n",
    "Everything appears to be in apt5, so we're going to focus on just apt5 files for now. The fractional cover (`'m01s03i317'`) consists of 27 different vegetation types. Below is a key to identify the coordinate codes (these can be viewed with `cube.coord('psuedo_level').points`. Similar for alpha, we only want the top level of moisture, so just the first layer has to be extracted.\n",
    "\n",
    "* `treecover`\n",
    "   * 101 = Broadlead deciduous tree\n",
    "   * 102 = Broadlead evergreen tree   \n",
    "   * 103  =  Broadlead  temperate evergreen tree\n",
    "   * 201 = Needleleaf deciduous    \n",
    "   * 202 = Needleleaf evergreen  \n",
    "* `cropland`\n",
    " * 301 = Grass C3 crop    \n",
    " * 401 = Grass C4 crop    \n",
    "* `pasture`\n",
    " * 302 = Grass C3 pature    \n",
    " * 402 = Grass C4 pasture\n",
    "* `vegcover` (This includes the list below and all of the above):\n",
    " * 501 = Shrub decidious    \n",
    " * 502 = Shrub evergreen    \n",
    " * 3 = Grass C3 natural\n",
    " * 4 = Grass C4 natural  \n",
    "   \n",
    "\n",
    "\n"
   ]
  },
  {
   "cell_type": "code",
   "execution_count": 10,
   "metadata": {},
   "outputs": [
    {
     "name": "stdout",
     "output_type": "stream",
     "text": [
      "[101, 102, 103, 201, 202]\n",
      "[301, 401]\n",
      "[302, 402]\n",
      "[101, 102, 103, 201, 202, 301, 401, 302, 402, 3, 4, 501, 502]\n"
     ]
    }
   ],
   "source": [
    "treecover = [101, 102, 103, 201, 202]\n",
    "cropland = [301, 401]\n",
    "pasture = [302, 402]\n",
    "vegcover = treecover + cropland + pasture + [3, 4, 501, 502]\n",
    "\n",
    "name_codes = [treecover, cropland, pasture, vegcover]\n",
    "name = ['treecover', 'cropland', 'pasture', 'vegcover']\n",
    "for x in range(0, len(name)):\n",
    "    print(name_codes[x])"
   ]
  },
  {
   "cell_type": "code",
   "execution_count": 11,
   "metadata": {},
   "outputs": [
    {
     "name": "stdout",
     "output_type": "stream",
     "text": [
      "treecover has been saved\n",
      "cropland has been saved\n",
      "pasture has been saved\n",
      "vegcover has been saved\n",
      "alpha has been saved\n",
      "lightning has been saved\n",
      "relative_humidity has been saved\n"
     ]
    }
   ],
   "source": [
    "for nam, dat in stash_conFIRE.items():\n",
    "    \n",
    "    # Set constraints and load data\n",
    "    stash_constraint = iris.AttributeConstraint(STASH = dat)\n",
    "    cubes = iris.load_cube(dir + file2, stash_constraint)\n",
    "    \n",
    "    \n",
    "    # Pulling out different vegetation layers for vegcover, treecover, cropland and pasture\n",
    "    if dat == 'm01s03i317':\n",
    "        \n",
    "        for var_type in range(0,len(name_codes)):\n",
    "            index = [cubes.coord('pseudo_level').points == x  for x in name_codes[var_type]]\n",
    "        \n",
    "            # This combines all the boolean arrays together. True + False = True\n",
    "            index = np.any(index, axis = 0)\n",
    "            #print('Indices for ' + name[var_type])\n",
    "            #print(index)\n",
    "        \n",
    "            # Extracts just the layers we want and saves\n",
    "            cube = cubes[index]\n",
    "            print(name[var_type] + ' has been saved')\n",
    "            outfile = '../outputs/stash_out/' + name[var_type] + '1929oct.nc'\n",
    "            iris.save(cube, outfile)\n",
    "    \n",
    "    # alpha\n",
    "    elif dat == 'm01s08i223':\n",
    "        \n",
    "        # We just want the top soil layer for moisture (alpha)\n",
    "        index_soil = [cube.coord('depth').points == 0.05]\n",
    "        index_soil = np.any(index_soil, axis = 0) # Still keep this in - it makes the cube happy\n",
    "        cube_soil = cubes[index_soil]\n",
    "        \n",
    "        print(nam + ' has been saved')\n",
    "        outfile = '../output/stash_out/' + nam +'1929oct.nc'\n",
    "        \n",
    "    # We save the files of all other variables (although this probably isn't right)\n",
    "    else:\n",
    "        print(nam + ' has been saved')\n",
    "        outfile = '../outputs/stash_out/' + nam + '1929oct.nc'\n",
    "        iris.save(cubes, outfile)"
   ]
  },
  {
   "cell_type": "markdown",
   "metadata": {},
   "source": [
    "#### AlphaMax\n",
    "\n",
    "To create alphaMax, the maximum alpha of the previous 12 months must be divided by the mean alpha of the last 12 months and then 1 must be subtracted from the result:\n",
    "\n",
    "\\begin{equation}\n",
    "    \\frac{\\alpha_{max}}{\\alpha} -1\n",
    "\\end{equation}\n",
    "\n"
   ]
  },
  {
   "cell_type": "markdown",
   "metadata": {},
   "source": [
    "### This is for creating output names for when multiple years are used \n",
    "\n",
    "Just replace `+ name + 1929oct` with `date[k]` and set as a counter when saving the files"
   ]
  },
  {
   "cell_type": "code",
   "execution_count": 50,
   "metadata": {},
   "outputs": [],
   "source": [
    "months = ['jan', 'feb', 'mar', 'apr', 'may', 'jun', 'jul,' 'aug', 'sep', 'oct', 'nov', 'dec']\n",
    "k = 0\n",
    "date =[]\n",
    "\n",
    "for i in range(1850,2015):\n",
    "    for month in months:\n",
    "        date.append(str(i) + month)"
   ]
  },
  {
   "cell_type": "code",
   "execution_count": 42,
   "metadata": {},
   "outputs": [
    {
     "name": "stdout",
     "output_type": "stream",
     "text": [
      "True\n",
      "False\n",
      "False\n",
      "False\n"
     ]
    }
   ],
   "source": [
    "# Something handy commands you may still need and don't want to get rid of:\n",
    "\n",
    "#date\n",
    "#i = 0\n",
    "#for c in cl_ap5:\n",
    "#    c = cl_ap5[i]\n",
    "#    #print(c.name())\n",
    "#    list_of_stash_ap5.append(c.attributes[\"STASH\"])\n",
    "#    i += 1\n",
    "#list_of_stash == stash_conFIRE.values()\n",
    "#list_of_stash_ap5\n",
    "for x in stash_conFIRE.values():\n",
    "    print(x == 'm01s03i317')"
   ]
  },
  {
   "cell_type": "code",
   "execution_count": null,
   "metadata": {},
   "outputs": [],
   "source": []
  }
 ],
 "metadata": {
  "kernelspec": {
   "display_name": "Python 3",
   "language": "python",
   "name": "python3"
  },
  "language_info": {
   "codemirror_mode": {
    "name": "ipython",
    "version": 3
   },
   "file_extension": ".py",
   "mimetype": "text/x-python",
   "name": "python",
   "nbconvert_exporter": "python",
   "pygments_lexer": "ipython3",
   "version": "3.6.6"
  }
 },
 "nbformat": 4,
 "nbformat_minor": 2
}
