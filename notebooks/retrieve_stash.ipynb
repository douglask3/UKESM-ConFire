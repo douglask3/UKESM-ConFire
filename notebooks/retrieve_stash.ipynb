{
 "cells": [
  {
   "cell_type": "markdown",
   "metadata": {},
   "source": [
    "# Stash codes"
   ]
  },
  {
   "cell_type": "code",
   "execution_count": 76,
   "metadata": {},
   "outputs": [
    {
     "name": "stdout",
     "output_type": "stream",
     "text": [
      "The autoreload extension is already loaded. To reload it, use:\n",
      "  %reload_ext autoreload\n"
     ]
    }
   ],
   "source": [
    "# Remember: use ceh conda environment\n",
    "\n",
    "%load_ext autoreload\n",
    "%autoreload\n",
    "\n",
    "import iris\n",
    "import matplotlib.pyplot as plt\n",
    "import warnings\n",
    "warnings.filterwarnings('ignore')"
   ]
  },
  {
   "cell_type": "markdown",
   "metadata": {},
   "source": [
    "## Set variables\n",
    "\n",
    "For now, I'm removing the variables which I can't find in either apt4 or apt5"
   ]
  },
  {
   "cell_type": "code",
   "execution_count": 107,
   "metadata": {},
   "outputs": [],
   "source": [
    "dir = '../data/'\n",
    "file = 'bc179a.p41930oct.pp'\n",
    "file2 = 'bc179a.p51929oct.pp'\n",
    "file3 = 'bc179a.p41929oct.pp'\n",
    "\n",
    "stash_conFIRE = {'vegcover'           : 'm01s03i317',\n",
    "                 'alpha'              : 'm01s08i223',\n",
    "#                'emc'                : 'm01s03i245',\n",
    "#                'treeCover'          : 'm01s03i317', # same as vegcover\n",
    "                 'lightning'          : 'm01s50i082',\n",
    "#                'pasture'            : 'm01s00i458',\n",
    "#                'population_density' : 'population_density2000-2014.nc',\n",
    "                 'relative_humidity'  : 'm01s03i245'}\n",
    "#                'cropland'           : 'm01s00i448'}\n",
    "\n",
    "# cube list\n",
    "list_of_stash_ap4 = []\n",
    "list_of_stash_ap5 = []\n",
    "\n",
    "cl_ap4 = iris.load(dir + file3)\n",
    "cl_ap5 = iris.load(dir + file2)"
   ]
  },
  {
   "cell_type": "markdown",
   "metadata": {},
   "source": [
    "### Checking to see if STASH codes match any in the file"
   ]
  },
  {
   "cell_type": "code",
   "execution_count": 108,
   "metadata": {},
   "outputs": [
    {
     "name": "stdout",
     "output_type": "stream",
     "text": [
      "vegcover in ap5\n",
      "lightning in ap5\n",
      "alpha in ap5\n",
      "relative_humidity in ap5\n"
     ]
    }
   ],
   "source": [
    "#print(c.attributes['STASH'])\n",
    "i = 0\n",
    "for c5 in cl_ap5:\n",
    "    c5 = cl_ap5[i]\n",
    "    for name, dat in stash_conFIRE.items():\n",
    "        if c5.attributes[\"STASH\"] == dat:\n",
    "            print(name + \" in ap5\")\n",
    "    i += 1\n",
    "\n",
    "j = 0\n",
    "for c4 in cl_ap4:\n",
    "    c4 = cl_ap4[j]\n",
    "    for name, dat in stash_conFIRE.items():\n",
    "        if c4.attributes[\"STASH\"] == dat:\n",
    "            print(name + \" in ap4\")\n",
    "    j += 1"
   ]
  },
  {
   "cell_type": "markdown",
   "metadata": {},
   "source": [
    "## Variable location:\n",
    "\n",
    "### ap4\n",
    "\n",
    "* Can't find ``pasture`` and `cropland` here, but they may be in fractional cover, along with vegcover and treecover\n",
    "\n",
    "### ap5\n",
    "\n",
    "* ``vegcover``\n",
    "* ``treeCover``\n",
    "* ``alpha``\n",
    "* ``relative_humdity``\n",
    "* ``lightning``"
   ]
  },
  {
   "cell_type": "code",
   "execution_count": 98,
   "metadata": {},
   "outputs": [],
   "source": [
    "i = 0\n",
    "for c in cl_ap5:\n",
    "    c = cl_ap5[i]\n",
    "    #print(c.name())\n",
    "    list_of_stash_ap5.append(c.attributes[\"STASH\"])\n",
    "    i += 1"
   ]
  },
  {
   "cell_type": "code",
   "execution_count": 109,
   "metadata": {},
   "outputs": [
    {
     "name": "stdout",
     "output_type": "stream",
     "text": [
      "0: m01s03i317 / (unknown)              (pseudo_level: 27; latitude: 144; longitude: 192)\n",
      "0: moisture_content_of_soil_layer / (kg m-2) (depth: 4; latitude: 144; longitude: 192)\n",
      "0: m01s50i082 / (unknown)              (latitude: 144; longitude: 192)\n",
      "0: relative_humidity / (%)             (latitude: 144; longitude: 192)\n"
     ]
    }
   ],
   "source": [
    "for name, dat in stash_conFIRE.items():\n",
    "    data = iris.load(dir + file2, iris.AttributeConstraint(STASH = dat))\n",
    "    outfile = '../outputs/stash_out/' + name + '1929oct.nc'\n",
    "    iris.save(data, outfile)"
   ]
  },
  {
   "cell_type": "markdown",
   "metadata": {},
   "source": [
    "### This is for creating output names for when multiple years are used \n",
    "\n",
    "Just replace `+ name + 1929oct` with `date[k]` and set as a counter when saving the files"
   ]
  },
  {
   "cell_type": "code",
   "execution_count": 50,
   "metadata": {},
   "outputs": [],
   "source": [
    "months = ['jan', 'feb', 'mar', 'apr', 'may', 'jun', 'aug', 'sep', 'oct', 'nov', 'dec']\n",
    "k = 0\n",
    "date =[]\n",
    "\n",
    "for i in range(1850,2015):\n",
    "    for month in months:\n",
    "        date.append(str(i) + month)"
   ]
  },
  {
   "cell_type": "code",
   "execution_count": 110,
   "metadata": {},
   "outputs": [
    {
     "data": {
      "text/plain": [
       "dict_values(['m01s03i317', 'm01s08i223', 'm01s50i082', 'm01s03i245'])"
      ]
     },
     "execution_count": 110,
     "metadata": {},
     "output_type": "execute_result"
    }
   ],
   "source": [
    "# Something handy commands you may still need and don't want to get rid of:\n",
    "\n",
    "date\n",
    "list_of_stash == stash_conFIRE.values()\n",
    "list_of_stash_ap5\n",
    "stash_conFIRE.values()"
   ]
  },
  {
   "cell_type": "code",
   "execution_count": null,
   "metadata": {},
   "outputs": [],
   "source": []
  }
 ],
 "metadata": {
  "kernelspec": {
   "display_name": "Python 3",
   "language": "python",
   "name": "python3"
  },
  "language_info": {
   "codemirror_mode": {
    "name": "ipython",
    "version": 3
   },
   "file_extension": ".py",
   "mimetype": "text/x-python",
   "name": "python",
   "nbconvert_exporter": "python",
   "pygments_lexer": "ipython3",
   "version": "3.7.3"
  }
 },
 "nbformat": 4,
 "nbformat_minor": 2
}
