{
 "cells": [
  {
   "cell_type": "markdown",
   "metadata": {},
   "source": [
    "## Remapping population density \n",
    "The aim of this little script is to remap all of the population density (from 1850 to 2014) and condense down into one file"
   ]
  },
  {
   "cell_type": "code",
   "execution_count": 43,
   "metadata": {},
   "outputs": [
    {
     "name": "stdout",
     "output_type": "stream",
     "text": [
      "The autoreload extension is already loaded. To reload it, use:\n",
      "  %reload_ext autoreload\n"
     ]
    }
   ],
   "source": [
    "%load_ext autoreload\n",
    "%autoreload\n",
    "\n",
    "import sys\n",
    "sys.path.append('../')\n",
    "\n",
    "import warnings\n",
    "warnings.filterwarnings('ignore')\n",
    "\n",
    "import os\n",
    "from   io     import StringIO\n",
    "import numpy  as np\n",
    "import pandas as pd\n",
    "import csv\n",
    "\n",
    "import iris\n",
    "import iris.plot as iplt\n",
    "from iris.experimental.equalise_cubes import equalise_attributes\n",
    "import matplotlib.pyplot as plt\n",
    "import numpy.ma as ma\n",
    "%matplotlib inline\n",
    "import cartopy.crs as ccrs\n",
    "from   libs.plot_maps    import *\n",
    "from netCDF4 import Dataset"
   ]
  },
  {
   "cell_type": "code",
   "execution_count": 17,
   "metadata": {},
   "outputs": [],
   "source": [
    "dir = '../data/pop_dens/'\n",
    "\n",
    "year = range(1850,2015)\n",
    "files = []\n",
    "\n",
    "for y in year:\n",
    "    files.append('PD_HYDEv3.2_' + str(y) + '.nc')"
   ]
  },
  {
   "cell_type": "markdown",
   "metadata": {},
   "source": [
    "### Load in data\n",
    "Merge all .nc files together "
   ]
  },
  {
   "cell_type": "code",
   "execution_count": 20,
   "metadata": {},
   "outputs": [],
   "source": [
    "aList = []\n",
    "\n",
    "# Create a cube list\n",
    "for f in files:\n",
    "    dat = iris.load_cube(dir + f)\n",
    "    aList.append(dat)"
   ]
  },
  {
   "cell_type": "code",
   "execution_count": 49,
   "metadata": {},
   "outputs": [
    {
     "ename": "TypeError",
     "evalue": "'LimitedAttributeDict' object is not callable",
     "output_type": "error",
     "traceback": [
      "\u001b[0;31m---------------------------------------------------------------------------\u001b[0m",
      "\u001b[0;31mTypeError\u001b[0m                                 Traceback (most recent call last)",
      "\u001b[0;32m<ipython-input-49-bf0d0f23ccc2>\u001b[0m in \u001b[0;36m<module>\u001b[0;34m\u001b[0m\n\u001b[1;32m      5\u001b[0m \u001b[0mtest\u001b[0m \u001b[0;34m=\u001b[0m \u001b[0mcubes\u001b[0m\u001b[0;34m[\u001b[0m\u001b[0;36m0\u001b[0m\u001b[0;34m:\u001b[0m\u001b[0;36m2\u001b[0m\u001b[0;34m]\u001b[0m\u001b[0;34m\u001b[0m\u001b[0m\n\u001b[1;32m      6\u001b[0m \u001b[0mequalise_attributes\u001b[0m\u001b[0;34m(\u001b[0m\u001b[0mtest\u001b[0m\u001b[0;34m)\u001b[0m\u001b[0;34m\u001b[0m\u001b[0m\n\u001b[0;32m----> 7\u001b[0;31m \u001b[0mtest\u001b[0m\u001b[0;34m[\u001b[0m\u001b[0;36m0\u001b[0m\u001b[0;34m]\u001b[0m\u001b[0;34m.\u001b[0m\u001b[0mattributes\u001b[0m\u001b[0;34m(\u001b[0m\u001b[0;34m)\u001b[0m\u001b[0;34m\u001b[0m\u001b[0m\n\u001b[0m",
      "\u001b[0;31mTypeError\u001b[0m: 'LimitedAttributeDict' object is not callable"
     ]
    }
   ],
   "source": [
    "# Merge cube list together \n",
    "# cube_list = iris.cube.CubeList(aList)\n",
    "# cubes = cube_list.merge()\n",
    "# cubes = cube_list.concatenate_cube()\n",
    "test = cubes[0:2]\n",
    "equalise_attributes(test)\n",
    "test[0].attributes()"
   ]
  },
  {
   "cell_type": "markdown",
   "metadata": {},
   "source": [
    "Load the mask"
   ]
  },
  {
   "cell_type": "code",
   "execution_count": null,
   "metadata": {},
   "outputs": [],
   "source": [
    "mask_dir = '..data/n96_masked_data/'\n",
    "file = 'no_t_n96_mask.nc'\n",
    "\n",
    "mask = iris.load_cube(mask_dir + file)"
   ]
  },
  {
   "cell_type": "markdown",
   "metadata": {},
   "source": [
    "Plot data to check if it's loaded in correctly"
   ]
  },
  {
   "cell_type": "code",
   "execution_count": null,
   "metadata": {},
   "outputs": [],
   "source": [
    "dat = cubes.collapsed('time', iris.analysis.MEAN)\n",
    "dat.long_name = 'Population Density'\n",
    "plot_lonely_cube(dat, cmap = 'magma', levels = None)"
   ]
  },
  {
   "cell_type": "markdown",
   "metadata": {},
   "source": [
    "## Regrid\n",
    "Using the mask n96e from 'regrid_nc' notebook, we're going to regrid the data. The main difference is the labelling of the lat and lon - both the original and the masked grid have the same number of coordinates"
   ]
  },
  {
   "cell_type": "code",
   "execution_count": null,
   "metadata": {},
   "outputs": [],
   "source": [
    "m_cube = cubes.regrid(mask, iris.analysis.Linear())"
   ]
  }
 ],
 "metadata": {
  "kernelspec": {
   "display_name": "Python 3",
   "language": "python",
   "name": "python3"
  },
  "language_info": {
   "codemirror_mode": {
    "name": "ipython",
    "version": 3
   },
   "file_extension": ".py",
   "mimetype": "text/x-python",
   "name": "python",
   "nbconvert_exporter": "python",
   "pygments_lexer": "ipython3",
   "version": "3.6.6"
  }
 },
 "nbformat": 4,
 "nbformat_minor": 4
}
