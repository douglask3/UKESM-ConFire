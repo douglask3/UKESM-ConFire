{
 "cells": [
  {
   "cell_type": "markdown",
   "metadata": {},
   "source": [
    "## Remapping population density \n",
    "The aim of this little script is to remap all of the population density (from 1850 to 2014) and condense down into one file"
   ]
  },
  {
   "cell_type": "code",
   "execution_count": 1,
   "metadata": {},
   "outputs": [],
   "source": [
    "%load_ext autoreload\n",
    "%autoreload\n",
    "\n",
    "import sys\n",
    "sys.path.append('../')\n",
    "\n",
    "import warnings\n",
    "warnings.filterwarnings('ignore')\n",
    "\n",
    "import os\n",
    "from   io     import StringIO\n",
    "import numpy  as np\n",
    "import pandas as pd\n",
    "import csv\n",
    "\n",
    "import iris\n",
    "import iris.plot as iplt\n",
    "from iris.experimental.equalise_cubes import equalise_attributes\n",
    "import matplotlib.pyplot as plt\n",
    "import numpy.ma as ma\n",
    "%matplotlib inline\n",
    "import cartopy.crs as ccrs\n",
    "from   libs.plot_maps    import *\n",
    "from netCDF4 import Dataset"
   ]
  },
  {
   "cell_type": "code",
   "execution_count": 28,
   "metadata": {},
   "outputs": [],
   "source": [
    "dir = '../data/pop_dens/'\n",
    "\n",
    "year = range(2001,2015)\n",
    "files = []\n",
    "\n",
    "for y in year:\n",
    "    files.append('PD_HYDEv3.2_' + str(y) + '.nc')"
   ]
  },
  {
   "cell_type": "markdown",
   "metadata": {},
   "source": [
    "### Load in a template cube\n",
    "We're going to use the time structure from another variable and add in 12 months per year to turn it into monthly data"
   ]
  },
  {
   "cell_type": "code",
   "execution_count": 29,
   "metadata": {},
   "outputs": [
    {
     "name": "stdout",
     "output_type": "stream",
     "text": [
      "m01s03i317 / (1)                    (time: 168; latitude: 144; longitude: 192)\n",
      "     Dimension coordinates:\n",
      "          time                           x              -               -\n",
      "          latitude                       -              x               -\n",
      "          longitude                      -              -               x\n",
      "     Auxiliary coordinates:\n",
      "          forecast_period                x              -               -\n",
      "     Scalar coordinates:\n",
      "          forecast_reference_time: 1850-01-01 00:00:00\n",
      "          pseudo_level: 151, bound=(101, 202)\n",
      "     Attributes:\n",
      "          Conventions: CF-1.5\n",
      "          STASH: m01s03i317\n",
      "          source: Data from Met Office Unified Model\n",
      "          um_version: 10.9\n",
      "     Cell methods:\n",
      "          mean: time (1 hour)\n",
      "          sum: pseudo_level\n"
     ]
    }
   ],
   "source": [
    "dir_temp = '../data/UKESM/retrieved_codes/2000-2014/'\n",
    "tree_file = 'treeCover2001-2014.nc'\n",
    "tree = iris.load_cube(dir_temp + tree_file)\n",
    "template = tree.copy()\n",
    "print(template)\n",
    "\n",
    "# Load mask cube\n",
    "mask_dir = '../data/n96_masked_data/'\n",
    "file = 'no_t_n96_mask.nc'\n",
    "\n",
    "mask = iris.load_cube(mask_dir + file)"
   ]
  },
  {
   "cell_type": "markdown",
   "metadata": {},
   "source": [
    "### Regrid and load data\n",
    "The cubes can't be merged in their current state, so we're going to write over the tree template (this works!)"
   ]
  },
  {
   "cell_type": "code",
   "execution_count": 31,
   "metadata": {},
   "outputs": [],
   "source": [
    "j = 0\n",
    "for y in year:\n",
    "    pop = iris.load_cube(dir + 'PD_HYDEv3.2_' + str(y) + '.nc')\n",
    "    for i in range(12):\n",
    "        template.data[j,:,:] = pop.collapsed('time', iris.analysis.MEAN).data\n",
    "        j += 1"
   ]
  },
  {
   "cell_type": "code",
   "execution_count": 32,
   "metadata": {},
   "outputs": [
    {
     "name": "stdout",
     "output_type": "stream",
     "text": [
      "m01s03i317 / (1)                    (time: 168; latitude: 144; longitude: 192)\n",
      "     Dimension coordinates:\n",
      "          time                           x              -               -\n",
      "          latitude                       -              x               -\n",
      "          longitude                      -              -               x\n",
      "     Auxiliary coordinates:\n",
      "          forecast_period                x              -               -\n",
      "     Scalar coordinates:\n",
      "          forecast_reference_time: 1850-01-01 00:00:00\n",
      "          pseudo_level: 151, bound=(101, 202)\n",
      "     Attributes:\n",
      "          Conventions: CF-1.5\n",
      "          STASH: m01s03i317\n",
      "          source: Data from Met Office Unified Model\n",
      "          um_version: 10.9\n",
      "     Cell methods:\n",
      "          mean: time (1 hour)\n",
      "          sum: pseudo_level\n"
     ]
    }
   ],
   "source": [
    "print(template)"
   ]
  },
  {
   "cell_type": "markdown",
   "metadata": {},
   "source": [
    "## Save output"
   ]
  },
  {
   "cell_type": "code",
   "execution_count": 34,
   "metadata": {},
   "outputs": [],
   "source": [
    "out = '../data/UKESM/retrieved_codes/2000-2014/' + 'pop_dens' +str(year[0]) + '-' + str(year[len(year)-1]) + '.nc'\n",
    "iris.save(template, out)"
   ]
  },
  {
   "cell_type": "code",
   "execution_count": 33,
   "metadata": {},
   "outputs": [
    {
     "data": {
      "text/plain": [
       "<matplotlib.collections.QuadMesh at 0x7f61eafd40f0>"
      ]
     },
     "execution_count": 33,
     "metadata": {},
     "output_type": "execute_result"
    },
    {
     "data": {
      "image/png": "[encoded data removed]",
      "text/plain": [
       "<Figure size 432x288 with 6 Axes>"
      ]
     },
     "metadata": {
      "needs_background": "light"
     },
     "output_type": "display_data"
    }
   ],
   "source": [
    "# plot_lonely_cube(pop[0], 1, 3, 2, cmap='magma', levels = None)\n",
    "# plot_lonely_cube(template[2], 1, 3, 1, cmap='magma', levels = None)\n",
    "# plot_lonely_cube(tree[2], 1, 3, 3, cmap='magma', levels = None)\n",
    "\n",
    "plot_lonely_cube(template.collapsed(['time'], iris.analysis.MEAN), 1, 3, 1, cmap='magma', levels = None)\n",
    "plot_lonely_cube(pop.collapsed(['time'], iris.analysis.MEAN), 1, 3, 2, cmap='magma', levels = None)\n",
    "plot_lonely_cube(tree.collapsed(['time'], iris.analysis.MEAN), 1, 3, 3, cmap='magma', levels = None)"
   ]
  },
  {
   "cell_type": "markdown",
   "metadata": {},
   "source": [
    "## Method B for merging the cube \n",
    "This way works, but it's probably in a weird time dimension and only accounts for yearly data"
   ]
  },
  {
   "cell_type": "code",
   "execution_count": null,
   "metadata": {},
   "outputs": [],
   "source": [
    "dir = '../data/pop_dens/'\n",
    "\n",
    "year = range(1851,2015)\n",
    "files = []\n",
    "aList = []\n",
    "i = 0\n",
    "\n",
    "# Load data and create a cube list (very inefficiently)\n",
    "for y in year:\n",
    "    files.append('PD_HYDEv3.2_' + str(y) + '.nc')\n",
    "    dat = iris.load_cube(dir + files[i])\n",
    "    \n",
    "    # Regrid\n",
    "    m_cube = cubes.regrid(mask, iris.analysis.Linear())\n",
    "    \n",
    "    # Dim coord\n",
    "    coord = iris.coords.DimCoord(y, 'time')\n",
    "    dat.remove_coord('time')\n",
    "    dat.add_dim_coord(coord,0)\n",
    "    \n",
    "    # Aux coord\n",
    "#     coord = iris.coords.AuxCoord(y, 'year')\n",
    "#     dat.add_aux_coord(coord)\n",
    "    \n",
    "    aList.append(dat)\n",
    "    i += 1"
   ]
  },
  {
   "cell_type": "code",
   "execution_count": null,
   "metadata": {},
   "outputs": [],
   "source": [
    "### Load in data\n",
    "#Merge all .nc files together. None of the files specify a time stamp,\n",
    "#so I've removed the time coordinate, and added another one in which tells iris the year.\n",
    "#It can then concatenate (still keeps the same number of dimensions) into one cube\n",
    "\n",
    "dir = '../data/pop_dens/'\n",
    "\n",
    "year = range(1851,2015)\n",
    "files = []\n",
    "aList = []\n",
    "i = 0\n",
    "\n",
    "# Load data and create a cube list (very inefficiently)\n",
    "for y in year:\n",
    "    files.append('PD_HYDEv3.2_' + str(y) + '.nc')\n",
    "    dat = iris.load_cube(dir + files[i])\n",
    "    \n",
    "    # Dim coord\n",
    "    coord = iris.coords.DimCoord(y, 'time')\n",
    "    dat.remove_coord('time')\n",
    "    dat.add_dim_coord(coord,0)\n",
    "    \n",
    "    # Aux coord\n",
    "#     coord = iris.coords.AuxCoord(y, 'year')\n",
    "#     dat.add_aux_coord(coord)\n",
    "    \n",
    "    aList.append(dat)\n",
    "    i += 1\n",
    "\n",
    "#print(cube_list[0])\n",
    "print(dat.coord('time'))\n",
    "\n",
    "# Merge cube list together \n",
    "cube_list = iris.cube.CubeList(aList)\n",
    "# cubes = cube_list.merge_cube()\n",
    "cubes = cube_list.concatenate_cube()\n",
    "# test = cubes[0:2]\n",
    "print(cubes)\n",
    "\n",
    "# Load the mask\n",
    "\n",
    "mask_dir = '../data/n96_masked_data/'\n",
    "file = 'no_t_n96_mask.nc'\n",
    "\n",
    "mask = iris.load_cube(mask_dir + file)\n",
    "\n",
    "# Plot data to check if it's loaded in correctly\n",
    "\n",
    "dat = cubes.collapsed('time', iris.analysis.MEAN)\n",
    "dat.long_name = 'Population Density'\n",
    "plot_lonely_cube(dat, cmap = 'magma', levels = None)\n",
    "\n",
    "## Regrid\n",
    "# Using the mask n96e from 'regrid_nc' notebook, we're going to regrid the data.\n",
    "# The main difference is the labelling of the lat and lon - both the original and the masked\n",
    "# grid have the same number of coordinates\n",
    "\n",
    "m_cube = cubes.regrid(mask, iris.analysis.Linear())\n",
    "\n",
    "out = '../data/UKESM/retrieved_codes/' + 'pop_dens_yearly' +str(year[0]) + '-' + str(year[len(year)-1]) + '.nc'\n",
    "iris.save(m_cube, out)"
   ]
  },
  {
   "cell_type": "code",
   "execution_count": null,
   "metadata": {},
   "outputs": [],
   "source": []
  }
 ],
 "metadata": {
  "kernelspec": {
   "display_name": "Python 3",
   "language": "python",
   "name": "python3"
  },
  "language_info": {
   "codemirror_mode": {
    "name": "ipython",
    "version": 3
   },
   "file_extension": ".py",
   "mimetype": "text/x-python",
   "name": "python",
   "nbconvert_exporter": "python",
   "pygments_lexer": "ipython3",
   "version": "3.6.6"
  }
 },
 "nbformat": 4,
 "nbformat_minor": 4
}
