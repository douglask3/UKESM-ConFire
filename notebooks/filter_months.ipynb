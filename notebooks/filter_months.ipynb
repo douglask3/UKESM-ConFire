{
 "cells": [
  {
   "cell_type": "code",
   "execution_count": 5,
   "metadata": {},
   "outputs": [
    {
     "name": "stdout",
     "output_type": "stream",
     "text": [
      "The autoreload extension is already loaded. To reload it, use:\n",
      "  %reload_ext autoreload\n"
     ]
    }
   ],
   "source": [
    "%load_ext autoreload\n",
    "%autoreload\n",
    "\n",
    "import sys\n",
    "sys.path.append('../')\n",
    "\n",
    "import warnings\n",
    "warnings.filterwarnings('ignore')\n",
    "\n",
    "import os\n",
    "from   io     import StringIO\n",
    "import numpy  as np\n",
    "import pandas as pd\n",
    "import csv\n",
    "\n",
    "import iris\n",
    "import matplotlib.pyplot as plt\n",
    "import iris.plot as iplt\n",
    "import iris.quickplot as qplt\n",
    "import iris.coord_categorisation\n",
    "import cftime\n",
    "import nc_time_axis\n",
    "import numpy.ma as ma\n",
    "%matplotlib inline\n",
    "import cartopy.crs as ccrs\n",
    "from   libs.plot_maps    import *"
   ]
  },
  {
   "cell_type": "code",
   "execution_count": 6,
   "metadata": {},
   "outputs": [],
   "source": [
    "dir = '../data/UKESM/retrieved_codes/jul2000-jun2014/'\n",
    "# file = 'cropland2000-2014.nc'\n",
    "\n",
    "dir_out = '../data/UKESM/retrieved_codes/2000-2009/'\n",
    "# cube = iris.load_cube(dir + file)"
   ]
  },
  {
   "cell_type": "code",
   "execution_count": 7,
   "metadata": {},
   "outputs": [],
   "source": [
    "files = {'vegcover'           : 'vegcover_jul2000-2014.nc',\n",
    "         'alphaMax'           : 'alphaMax_jul2000-2014.nc',\n",
    "         'alpha'              : 'alpha_jul2000-2014.nc',\n",
    "#          'emc'                : 'emc2000-2014.nc',\n",
    "         'treeCover'          : 'treeCover_jul2000-2014.nc',\n",
    "         'lightning'          : 'lightning_jul2000-2014.nc',\n",
    "         'pasture'            : 'pasture_jul2000-2014.nc',\n",
    "         'population_density' : 'pop_dens_jul2000-2014.nc',\n",
    "#          'fire'               : 'fire2000-2014.nc',\n",
    "         'relative_humidity'  : 'relative_humidity_0-1_jul2000-2014.nc',\n",
    "         'cropland'           : 'cropland_jul2000-2014.nc'}"
   ]
  },
  {
   "cell_type": "code",
   "execution_count": 8,
   "metadata": {},
   "outputs": [
    {
     "name": "stdout",
     "output_type": "stream",
     "text": [
      "vegcover has been saved\n",
      "alphaMax has been saved\n",
      "alpha has been saved\n",
      "treeCover has been saved\n",
      "lightning has been saved\n",
      "pasture has been saved\n",
      "population_density has been saved\n",
      "relative_humidity has been saved\n",
      "cropland has been saved\n"
     ]
    }
   ],
   "source": [
    "input_data = {}\n",
    "for key, file in files.items(): \n",
    "    data = iris.load_cube(dir + file)\n",
    "    input_data[key] = data\n",
    "    \n",
    "    # Going from June 2014 to Dec 2009\n",
    "    cube_x = input_data[key][:-54,:,:]\n",
    "    \n",
    "    new_file_names = files[key].replace(\"_jul2000-2014.nc\",\"2000-2009.nc\")\n",
    "    iris.save(cube_x, dir_out + new_file_names)\n",
    "    print(key + ' has been saved')"
   ]
  },
  {
   "cell_type": "code",
   "execution_count": null,
   "metadata": {},
   "outputs": [],
   "source": []
  }
 ],
 "metadata": {
  "kernelspec": {
   "display_name": "Python 3",
   "language": "python",
   "name": "python3"
  },
  "language_info": {
   "codemirror_mode": {
    "name": "ipython",
    "version": 3
   },
   "file_extension": ".py",
   "mimetype": "text/x-python",
   "name": "python",
   "nbconvert_exporter": "python",
   "pygments_lexer": "ipython3",
   "version": "3.7.4"
  }
 },
 "nbformat": 4,
 "nbformat_minor": 4
}
