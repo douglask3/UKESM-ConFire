{
 "cells": [
  {
   "cell_type": "code",
   "execution_count": 5,
   "metadata": {},
   "outputs": [
    {
     "name": "stdout",
     "output_type": "stream",
     "text": [
      "The autoreload extension is already loaded. To reload it, use:\n",
      "  %reload_ext autoreload\n"
     ]
    }
   ],
   "source": [
    "%load_ext autoreload\n",
    "%autoreload\n",
    "\n",
    "import sys\n",
    "sys.path.append('../')\n",
    "\n",
    "import warnings\n",
    "warnings.filterwarnings('ignore')\n",
    "\n",
    "import os\n",
    "from   io     import StringIO\n",
    "import numpy  as np\n",
    "import pandas as pd\n",
    "import csv\n",
    "\n",
    "import iris\n",
    "import matplotlib.pyplot as plt\n",
    "import iris.plot as iplt\n",
    "import iris.quickplot as qplt\n",
    "import iris.coord_categorisation\n",
    "import cftime\n",
    "import nc_time_axis\n",
    "import numpy.ma as ma\n",
    "%matplotlib inline\n",
    "import cartopy.crs as ccrs\n",
    "from   libs.plot_maps    import *"
   ]
  },
  {
   "cell_type": "markdown",
   "metadata": {},
   "source": [
    "Loading in the data"
   ]
  },
  {
   "cell_type": "code",
   "execution_count": 6,
   "metadata": {},
   "outputs": [],
   "source": [
    "# Specify the file you want to alter (for single files):\n",
    "dir = '../data/UKESM/retrieved_codes/jul2000-jun2014/'\n",
    "# file = 'cropland2000-2014.nc'\n",
    "# cube = iris.load_cube(dir + file)\n",
    "\n",
    "\n",
    "# And where you want to save the output\n",
    "dir_out = '../data/UKESM/retrieved_codes/2000-2009/'\n",
    "new_file_suffix = '2000-2009'"
   ]
  },
  {
   "cell_type": "code",
   "execution_count": 7,
   "metadata": {},
   "outputs": [],
   "source": [
    "file_suffix = '_jul2000-2014'\n",
    "files = {'vegcover'           : 'vegcover' + file_suffix + '.nc',\n",
    "         'alphaMax'           : 'alphaMax' + file_suffix + '.nc',\n",
    "         'alpha'              : 'alpha' + file_suffix + '.nc',\n",
    "#          'emc'                : 'emc2000-2014.nc',\n",
    "         'treeCover'          : 'treeCover' + file_suffix + '.nc'',\n",
    "         'lightning'          : 'lightning' + file_suffix + '.nc',\n",
    "         'pasture'            : 'pasture' + file_suffix + '.nc',\n",
    "         'population_density' : 'pop_dens' + file_suffix + '.nc',\n",
    "#          'fire'               : 'fire2000-2014.nc',\n",
    "         'relative_humidity'  : 'relative_humidity_0-1' + file_suffix + '.nc',\n",
    "         'cropland'           : 'cropland' + file_suffix + '.nc'}"
   ]
  },
  {
   "cell_type": "markdown",
   "metadata": {},
   "source": [
    "Set the number of months you want to skip"
   ]
  },
  {
   "cell_type": "code",
   "execution_count": null,
   "metadata": {},
   "outputs": [],
   "source": [
    "x = 54"
   ]
  },
  {
   "cell_type": "markdown",
   "metadata": {},
   "source": [
    "Load in the data, change the number of months used and replace the file name with something new"
   ]
  },
  {
   "cell_type": "code",
   "execution_count": 8,
   "metadata": {},
   "outputs": [
    {
     "name": "stdout",
     "output_type": "stream",
     "text": [
      "vegcover has been saved\n",
      "alphaMax has been saved\n",
      "alpha has been saved\n",
      "treeCover has been saved\n",
      "lightning has been saved\n",
      "pasture has been saved\n",
      "population_density has been saved\n",
      "relative_humidity has been saved\n",
      "cropland has been saved\n"
     ]
    }
   ],
   "source": [
    "input_data = {}\n",
    "for key, file in files.items(): \n",
    "    data = iris.load_cube(dir + file)\n",
    "    input_data[key] = data\n",
    "    \n",
    "    # Going from June 2014 to Dec 2009\n",
    "    cube_x = input_data[key][:-x,:,:]\n",
    "    \n",
    "    new_file_names = files[key].replace(file_suffix + \".nc\", new_file_suffix + \".nc\")\n",
    "    iris.save(cube_x, dir_out + new_file_names)\n",
    "    print(key + ' has been saved')"
   ]
  },
  {
   "cell_type": "code",
   "execution_count": null,
   "metadata": {},
   "outputs": [],
   "source": []
  }
 ],
 "metadata": {
  "kernelspec": {
   "display_name": "Python 3",
   "language": "python",
   "name": "python3"
  },
  "language_info": {
   "codemirror_mode": {
    "name": "ipython",
    "version": 3
   },
   "file_extension": ".py",
   "mimetype": "text/x-python",
   "name": "python",
   "nbconvert_exporter": "python",
   "pygments_lexer": "ipython3",
   "version": "3.7.4"
  }
 },
 "nbformat": 4,
 "nbformat_minor": 4
}
