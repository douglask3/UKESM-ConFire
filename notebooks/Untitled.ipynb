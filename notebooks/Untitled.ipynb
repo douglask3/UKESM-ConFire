{
 "cells": [
  {
   "cell_type": "markdown",
   "metadata": {},
   "source": [
    "<table style=\"width: 100%; border-collapse: collapse;\" border=\"0\">\n",
    "<tr>\n",
    "<td><b>Created:</b> Monday 30 January 2017</td>\n",
    "<td style=\"text-align: right;\"><a href=\"https://www.github.com/rhyswhitley/fire_limitation\">github.com/rhyswhitley/fire_limitation</td>\n",
    "</tr>\n",
    "</table>\n",
    "\n",
    "<div>\n",
    "<center>\n",
    "<font face=\"Times\">\n",
    "<br>\n",
    "<h1>Quantifying the uncertainity of a global fire limitation model using Bayesian inference</h1>\n",
    "<h2>SI 1: Model description</h2>\n",
    "<br>\n",
    "<br>\n",
    "<sup>1,* </sup>Douglas Kelley, \n",
    "<sup>2 </sup>Ioannis Bistinas, \n",
    "<sup>3, 4 </sup>Chantelle Burton, \n",
    "<sup>1 </sup>Tobias Marthews, \n",
    "<sup>5 </sup>Rhys Whitley\n",
    "<br>\n",
    "<br>\n",
    "<br>\n",
    "<sup>1 </sup>Centre for Ecology and Hydrology, Maclean Building, Crowmarsh Gifford, Wallingford, Oxfordshire, United Kingdom\n",
    "<br>\n",
    "<sup>2 </sup>Vrije Universiteit Amsterdam, Faculty of Earth and Life Sciences, Amsterdam, Netherlands\n",
    "<br>\n",
    "<sup>3 </sup>Met Office United Kingdom, Exeter, United Kingdom\n",
    "<br>\n",
    "<sup>4 </sup>Geography, University of Exeter, Exeter, United Kingdom\n",
    "<br>\n",
    "<sup>5 </sup>Natural Perils Pricing, Commercial & Consumer Portfolio & Pricing, Suncorp Group, Sydney, Australia\n",
    "<br>\n",
    "<br>\n",
    "<h3>Summary</h3>\n",
    "<hr>\n",
    "<br> \n",
    "<b>In this SI notebook, we describe our modelling framework and model evaluation</b>\n",
    "<br>\n",
    "<b>Data preparation and Bayesian analysis an be found in SI2 and SI3</b>.\n",
    "<br>\n",
    "<br>\n",
    "<hr>\n",
    "</font>\n",
    "</center>\n",
    "</div>"
   ]
  },
  {
   "cell_type": "markdown",
   "metadata": {},
   "source": [
    "## Driving variables\n",
    "\n",
    "<img src=\"images/Variables.png\">\n",
    "Figure S1: Driving variables for fire regime construction. Veg Cover and $\\alpha$ max anomolie are used for fuel continuity; Tree Cover, $\\alpha$ and atmospheric drying potential for moisture; Lightning, Patsure and Population Density combine to represent ignition potential; Cropland and population density describe firect human suppression. Model is optimized against GFED4s burnt area. See paper for data refences. "
   ]
  },
  {
   "cell_type": "markdown",
   "metadata": {},
   "source": [
    "## Variable trends\n",
    "\n",
    "<img src=\"images/Trends.png\">\n",
    "Figure S2: Decadale trends in the driving variables.T rends for each variable were calculated by fitting a simple linear regression model of the variable for each month of the year through time."
   ]
  },
  {
   "cell_type": "markdown",
   "metadata": {},
   "source": [
    "## Benchmarking\n",
    "* Trend GFED\n",
    "* Trend US\n",
    "* Normalised Trend\n",
    "\n",
    "Figure S3:\n",
    "\n",
    "### Bencharking scheme description\n",
    "| Measure            | Metric | Reconstructed Burnt Area | Mean Null Model | Randomly Resamples Null Model | FireMIP model range |\n",
    "|--------------------|--------|--------------------------|-----------------|-------------------------------|---------------------|\n",
    "| Spatial Burnt Area | NME    |                          | 1.0             |                               |                     |\n",
    "| Fire Season timing | MPD    |                          |                 |                               |                     |\n",
    "| Burnt Area Trend   | NME    |                          | 1.0             |                               |     N/A                |\n",
    "Table S1: Benchmark scores for annual average burnt area, fire season timing, and trend in burnt area again null and fireMIP model output where available\n",
    "\n",
    "\n",
    "Table S2: Resultant parameters vs suggested paramters from litriture"
   ]
  },
  {
   "cell_type": "markdown",
   "metadata": {},
   "source": [
    "## Control limitation contribution"
   ]
  },
  {
   "cell_type": "markdown",
   "metadata": {},
   "source": [
    "Figure S4: Annual average \"Raw\" limitation of each control"
   ]
  },
  {
   "cell_type": "markdown",
   "metadata": {},
   "source": [
    "\n",
    "Figure S5: \"Raw\" limitation of each control during the fire season, defined as the climatological month of maximum fire."
   ]
  },
  {
   "cell_type": "markdown",
   "metadata": {},
   "source": [
    "<img src=\"images/RawPotSen.png\">\n",
    "Figure S6: Raw, potential limitation, and sensitivity to limitation for (1st row) annual average and (2nd row) fire season\n",
    "\n",
    "<p><img src=\"images/biome.png\" width=\"400\" ></p> \n",
    "Figure S7: Biome map\n",
    "\n",
    "\n",
    "<img width=\"800\" src=\"images/boxyWhistery-absolute-.png\">\n",
    "Figure S8: Absolute changes in trends per biome"
   ]
  },
  {
   "cell_type": "markdown",
   "metadata": {},
   "source": [
    "## Human Variables\n",
    "\n",
    "<img src=\"images/croplandVBF.png\" width = \"350\">\n",
    "<p>\n",
    "Figure S9: cropland impact on burnt area\n",
    "\n",
    "<img src=\"images/popdensVBF.png\" width = \"350\">\n",
    "Figure S10: Population density impact on burnt area"
   ]
  },
  {
   "cell_type": "code",
   "execution_count": null,
   "metadata": {
    "collapsed": true
   },
   "outputs": [],
   "source": []
  }
 ],
 "metadata": {
  "kernelspec": {
   "display_name": "Python 3",
   "language": "python",
   "name": "python3"
  },
  "language_info": {
   "codemirror_mode": {
    "name": "ipython",
    "version": 3
   },
   "file_extension": ".py",
   "mimetype": "text/x-python",
   "name": "python",
   "nbconvert_exporter": "python",
   "pygments_lexer": "ipython3",
   "version": "3.6.0"
  }
 },
 "nbformat": 4,
 "nbformat_minor": 2
}
