{
 "cells": [
  {
   "cell_type": "markdown",
   "metadata": {},
   "source": [
    "## Plotting outputs from retrieved stash codes"
   ]
  },
  {
   "cell_type": "code",
   "execution_count": 1,
   "metadata": {},
   "outputs": [],
   "source": [
    "%load_ext autoreload\n",
    "%autoreload\n",
    "\n",
    "import sys\n",
    "sys.path.append('../')\n",
    "\n",
    "import warnings\n",
    "warnings.filterwarnings('ignore')\n",
    "\n",
    "import os\n",
    "from   io     import StringIO\n",
    "import numpy  as np\n",
    "import pandas as pd\n",
    "import csv\n",
    "\n",
    "import iris\n",
    "import iris.plot as iplt\n",
    "import matplotlib.pyplot as plt\n",
    "import numpy.ma as ma\n",
    "%matplotlib inline\n",
    "import cartopy.crs as ccrs\n",
    "from   libs.plot_maps    import *\n",
    "from netCDF4 import Dataset"
   ]
  },
  {
   "cell_type": "code",
   "execution_count": 2,
   "metadata": {},
   "outputs": [],
   "source": [
    "dir = '/home/users/mbrown/outputs/'\n",
    "files = {'vegcover'           : 'vegcover2000-2014.nc',\n",
    "         'alphaMax'           : 'alphaMax2000-2014.nc',\n",
    "         'alpha'              : 'alpha2000-2014.nc',\n",
    "         'relative_humidity'  : 'relative_humidity2000-2014.nc',\n",
    "         'treeCover'          : 'treecover2000-2014.nc',\n",
    "         'lightning'          : 'lightning2000-2014.nc',\n",
    "         'pasture'            : 'pasture2000-2014.nc',\n",
    " #        'population_density' : 'population_density2000-2014.nc',\n",
    "         'cropland'           : 'cropland2000-2014.nc'}"
   ]
  },
  {
   "cell_type": "code",
   "execution_count": null,
   "metadata": {},
   "outputs": [],
   "source": [
    "input_data = {}\n",
    "for key, file in files.items(): \n",
    "    data = iris.load_cube(dir + file)\n",
    "    input_data[key] = data"
   ]
  },
  {
   "cell_type": "code",
   "execution_count": null,
   "metadata": {},
   "outputs": [],
   "source": [
    "nd = 0\n",
    "\n",
    "plt.figure(figsize = (10, 7.5))\n",
    "\n",
    "for key, dat in input_data.items():\n",
    "    nd = nd + 1\n",
    "    dat = dat.collapsed('time', iris.analysis.MEAN)\n",
    "    dat.long_name = key\n",
    "    plot_lonely_cube(dat, 3, 4, nd, cmap = 'magma', levels = None)    "
   ]
  },
  {
   "cell_type": "code",
   "execution_count": null,
   "metadata": {},
   "outputs": [],
   "source": [
    "# Or use this to plot"
   ]
  },
  {
   "cell_type": "code",
   "execution_count": null,
   "metadata": {},
   "outputs": [],
   "source": [
    "# iplt.contourf(input_data['vegcover'][0,:,:], cmap = 'magma')\n",
    "# iris.quickplot.pcolormesh(input_data['vegcover'][0,:,:], cmap = 'magma')\n",
    "# plt.title('Vegcover: full resolution')"
   ]
  }
 ],
 "metadata": {
  "kernelspec": {
   "display_name": "Python 3",
   "language": "python",
   "name": "python3"
  },
  "language_info": {
   "codemirror_mode": {
    "name": "ipython",
    "version": 3
   },
   "file_extension": ".py",
   "mimetype": "text/x-python",
   "name": "python",
   "nbconvert_exporter": "python",
   "pygments_lexer": "ipython3",
   "version": "3.7.3"
  }
 },
 "nbformat": 4,
 "nbformat_minor": 2
}
