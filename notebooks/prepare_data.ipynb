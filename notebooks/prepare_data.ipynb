{
 "cells": [
  {
   "cell_type": "markdown",
   "metadata": {},
   "source": [
    "<table style=\"width: 100%; border-collapse: collapse;\" border=\"0\">\n",
    "<tr>\n",
    "<td><b>Created:</b> Monday 30 January 2017</td>\n",
    "<td style=\"text-align: right;\"><a href=\"https://www.github.com/rhyswhitley/fire_limitation\">github.com/rhyswhitley/fire_limitation</td>\n",
    "</tr>\n",
    "</table>\n",
    "\n",
    "<div>\n",
    "<center>\n",
    "<font face=\"Times\">\n",
    "<br>\n",
    "<h1>Quantifying the uncertainity of a global fire limitation model using Bayesian inference</h1>\n",
    "<h2>Part 1: Staging data for analysis</h2>\n",
    "<br>\n",
    "<br>\n",
    "<sup>1,* </sup>Douglas Kelley, \n",
    "<sup>2 </sup>Ioannis Bistinas, \n",
    "<sup>3, 4 </sup>Chantelle Burton, \n",
    "<sup>1 </sup>Tobias Marthews, \n",
    "<sup>5 </sup>Rhys Whitley\n",
    "<br>\n",
    "<br>\n",
    "<br>\n",
    "<sup>1 </sup>Centre for Ecology and Hydrology, Maclean Building, Crowmarsh Gifford, Wallingford, Oxfordshire, United Kingdom\n",
    "<br>\n",
    "<sup>2 </sup>Vrije Universiteit Amsterdam, Faculty of Earth and Life Sciences, Amsterdam, Netherlands\n",
    "<br>\n",
    "<sup>3 </sup>Met Office United Kingdom, Exeter, United Kingdom\n",
    "<br>\n",
    "<sup>4 </sup>Geography, University of Exeter, Exeter, United Kingdom\n",
    "<br>\n",
    "<sup>5 </sup>Natural Perils Pricing, Commercial & Consumer Portfolio & Pricing, Suncorp Group, Sydney, Australia\n",
    "<br>\n",
    "<br>\n",
    "<h3>Summary</h3>\n",
    "<hr>\n",
    "<p> \n",
    "This notebook aims to process the separate netCDF4 files for the model drivers (X<sub>i=1, 2, ... M</sub>) and model target (Y) into a unified tabular data frame, exported as a compressed comma separated value (CSV) file. This file is subsequently used in the Bayesian inference study that forms the second notebook in this experiment. The advantage of the pre-processing the data separately to the analysis allows for it be quickly staged on demand. Of course other file formats may be more advantageous for greater compression (e.g. SQLite3 database file).\n",
    "</p>\n",
    "<br>\n",
    "<b>You will need to run this notebook to prepare the dataest before you attempt the Bayesian analysis in Part 2</b>.\n",
    "<br>\n",
    "<br>\n",
    "<br>\n",
    "<i>Python code and calculations below</i>\n",
    "<br>\n",
    "<hr>\n",
    "</font>\n",
    "</center>\n",
    "</div>"
   ]
  },
  {
   "cell_type": "markdown",
   "metadata": {},
   "source": [
    "## Load libraries"
   ]
  },
  {
   "cell_type": "code",
   "execution_count": 1,
   "metadata": {
    "collapsed": true
   },
   "outputs": [],
   "source": [
    "# data munging and analytical libraries \n",
    "import re\n",
    "import os\n",
    "import numpy as np\n",
    "import pandas as pd\n",
    "from netCDF4 import Dataset \n",
    "\n",
    "# graphical libraries\n",
    "import matplotlib.pyplot as plt\n",
    "%matplotlib inline\n",
    "\n",
    "# set paths\n",
    "outPath = \"../data/globfire.csv\""
   ]
  },
  {
   "cell_type": "markdown",
   "metadata": {},
   "source": [
    "## Import and clean data\n",
    "\n",
    "Set the directory path and look for all netcdf files that correspond to the model drivers and target."
   ]
  },
  {
   "cell_type": "code",
   "execution_count": 2,
   "metadata": {
    "collapsed": false
   },
   "outputs": [
    {
     "data": {
      "text/html": [
       "<div>\n",
       "<table border=\"1\" class=\"dataframe\">\n",
       "  <thead>\n",
       "    <tr style=\"text-align: right;\">\n",
       "      <th></th>\n",
       "      <th>file_name</th>\n",
       "      <th>filepath</th>\n",
       "    </tr>\n",
       "  </thead>\n",
       "  <tbody>\n",
       "    <tr>\n",
       "      <th>0</th>\n",
       "      <td>alpha</td>\n",
       "      <td>../data/raw/alpha2000-2014.nc</td>\n",
       "    </tr>\n",
       "    <tr>\n",
       "      <th>1</th>\n",
       "      <td>alpha_</td>\n",
       "      <td>../data/raw/alpha_12monthMax2000-2014.nc</td>\n",
       "    </tr>\n",
       "    <tr>\n",
       "      <th>2</th>\n",
       "      <td>bareground</td>\n",
       "      <td>../data/raw/bareground2000-2014.nc</td>\n",
       "    </tr>\n",
       "    <tr>\n",
       "      <th>3</th>\n",
       "      <td>cropland</td>\n",
       "      <td>../data/raw/cropland2000-2014.nc</td>\n",
       "    </tr>\n",
       "    <tr>\n",
       "      <th>4</th>\n",
       "      <td>emc</td>\n",
       "      <td>../data/raw/emc2000-2014.nc</td>\n",
       "    </tr>\n",
       "    <tr>\n",
       "      <th>5</th>\n",
       "      <td>fire</td>\n",
       "      <td>../data/raw/fire2000-2014.nc</td>\n",
       "    </tr>\n",
       "    <tr>\n",
       "      <th>6</th>\n",
       "      <td>Hr</td>\n",
       "      <td>../data/raw/Hr2000-2014.nc</td>\n",
       "    </tr>\n",
       "    <tr>\n",
       "      <th>7</th>\n",
       "      <td>lightning_ignitions</td>\n",
       "      <td>../data/raw/lightning_ignitions2000-2014.nc</td>\n",
       "    </tr>\n",
       "    <tr>\n",
       "      <th>8</th>\n",
       "      <td>NPP</td>\n",
       "      <td>../data/raw/NPP2000-2014.nc</td>\n",
       "    </tr>\n",
       "    <tr>\n",
       "      <th>9</th>\n",
       "      <td>pasture</td>\n",
       "      <td>../data/raw/pasture2000-2014.nc</td>\n",
       "    </tr>\n",
       "    <tr>\n",
       "      <th>10</th>\n",
       "      <td>population_density</td>\n",
       "      <td>../data/raw/population_density2000-2014.nc</td>\n",
       "    </tr>\n",
       "    <tr>\n",
       "      <th>11</th>\n",
       "      <td>Prc</td>\n",
       "      <td>../data/raw/Prc2000-2014.nc</td>\n",
       "    </tr>\n",
       "    <tr>\n",
       "      <th>12</th>\n",
       "      <td>Tas</td>\n",
       "      <td>../data/raw/Tas2000-2014.nc</td>\n",
       "    </tr>\n",
       "    <tr>\n",
       "      <th>13</th>\n",
       "      <td>treecover</td>\n",
       "      <td>../data/raw/treecover2000-2014.nc</td>\n",
       "    </tr>\n",
       "    <tr>\n",
       "      <th>14</th>\n",
       "      <td>urban_area</td>\n",
       "      <td>../data/raw/urban_area2000-2014.nc</td>\n",
       "    </tr>\n",
       "    <tr>\n",
       "      <th>15</th>\n",
       "      <td>Wet</td>\n",
       "      <td>../data/raw/Wet2000-2014.nc</td>\n",
       "    </tr>\n",
       "  </tbody>\n",
       "</table>\n",
       "</div>"
      ],
      "text/plain": [
       "              file_name                                     filepath\n",
       "0                 alpha                ../data/raw/alpha2000-2014.nc\n",
       "1                alpha_     ../data/raw/alpha_12monthMax2000-2014.nc\n",
       "2            bareground           ../data/raw/bareground2000-2014.nc\n",
       "3              cropland             ../data/raw/cropland2000-2014.nc\n",
       "4                   emc                  ../data/raw/emc2000-2014.nc\n",
       "5                  fire                 ../data/raw/fire2000-2014.nc\n",
       "6                    Hr                   ../data/raw/Hr2000-2014.nc\n",
       "7   lightning_ignitions  ../data/raw/lightning_ignitions2000-2014.nc\n",
       "8                   NPP                  ../data/raw/NPP2000-2014.nc\n",
       "9               pasture              ../data/raw/pasture2000-2014.nc\n",
       "10   population_density   ../data/raw/population_density2000-2014.nc\n",
       "11                  Prc                  ../data/raw/Prc2000-2014.nc\n",
       "12                  Tas                  ../data/raw/Tas2000-2014.nc\n",
       "13            treecover            ../data/raw/treecover2000-2014.nc\n",
       "14           urban_area           ../data/raw/urban_area2000-2014.nc\n",
       "15                  Wet                  ../data/raw/Wet2000-2014.nc"
      ]
     },
     "execution_count": 2,
     "metadata": {},
     "output_type": "execute_result"
    }
   ],
   "source": [
    "driver_paths = [os.path.join(dp, f) for (dp, _, fn) in os.walk(\"../data/raw/\") for f in fn if f.endswith('.nc')]\n",
    "driver_names = [re.search('^[a-zA-Z_]*', os.path.basename(fp)).group(0) for fp in driver_paths]\n",
    "\n",
    "file_table = pd.DataFrame({'filepath': driver_paths, 'file_name': driver_names})\n",
    "file_table"
   ]
  },
  {
   "cell_type": "markdown",
   "metadata": {},
   "source": [
    "Define a function to extract the variable values from each netCDF4 file. Variables are flattened from a 3 dimensional array to 1 dimensional version, pooling all values both spatially and temporily. \n",
    "\n",
    "Don't know if this is the correct way to do this, but will come back to it once I understand the model (and its optimisation) better."
   ]
  },
  {
   "cell_type": "code",
   "execution_count": 3,
   "metadata": {
    "collapsed": false
   },
   "outputs": [],
   "source": [
    "def nc_extract(fpath):\n",
    "    print(\"Processing: {0}\".format(fpath))\n",
    "    with Dataset(fpath, 'r') as nc_file:\n",
    "        gdata = np.array(nc_file.variables['variable'][:,:,:])\n",
    "        gflat = gdata.flatten()\n",
    "        if type(gdata) == np.ma.core.MaskedArray:\n",
    "            return gflat[~gflat.mask].data\n",
    "        else:\n",
    "            return gflat.data"
   ]
  },
  {
   "cell_type": "markdown",
   "metadata": {},
   "source": [
    "Execute the above function on all netCDF4 file paths."
   ]
  },
  {
   "cell_type": "code",
   "execution_count": null,
   "metadata": {
    "collapsed": false,
    "scrolled": false
   },
   "outputs": [
    {
     "name": "stdout",
     "output_type": "stream",
     "text": [
      "Processing: ../data/raw/alpha2000-2014.nc\n",
      "Processing: ../data/raw/alpha_12monthMax2000-2014.nc\n",
      "Processing: ../data/raw/bareground2000-2014.nc\n",
      "Processing: ../data/raw/cropland2000-2014.nc\n",
      "Processing: ../data/raw/emc2000-2014.nc\n",
      "Processing: ../data/raw/fire2000-2014.nc\n",
      "Processing: ../data/raw/Hr2000-2014.nc\n",
      "Processing: ../data/raw/lightning_ignitions2000-2014.nc\n",
      "Processing: ../data/raw/NPP2000-2014.nc\n",
      "Processing: ../data/raw/pasture2000-2014.nc\n",
      "Processing: ../data/raw/population_density2000-2014.nc\n",
      "Processing: ../data/raw/Prc2000-2014.nc\n",
      "Processing: ../data/raw/Tas2000-2014.nc\n",
      "Processing: ../data/raw/treecover2000-2014.nc\n",
      "Processing: ../data/raw/urban_area2000-2014.nc\n",
      "Processing: ../data/raw/Wet2000-2014.nc\n"
     ]
    }
   ],
   "source": [
    "values = [nc_extract(dp) for dp in driver_paths]"
   ]
  },
  {
   "cell_type": "markdown",
   "metadata": {},
   "source": [
    "Turn this into a dataframe for the analysis."
   ]
  },
  {
   "cell_type": "code",
   "execution_count": null,
   "metadata": {
    "collapsed": false,
    "scrolled": false
   },
   "outputs": [],
   "source": [
    "# turn list into a dataframe\n",
    "fire_df = pd.DataFrame(np.array(values).T, columns=driver_names)\n",
    "\n",
    "# replace null flags with pandas null\n",
    "fire_df.replace(-3.4e38, np.nan, inplace=True)\n",
    "\n",
    "# drop all null rows (are ocean and not needed in optim)\n",
    "fire_df.dropna(inplace=True)"
   ]
  },
  {
   "cell_type": "markdown",
   "metadata": {},
   "source": [
    "Check that we've built it correctly."
   ]
  },
  {
   "cell_type": "code",
   "execution_count": null,
   "metadata": {
    "collapsed": false
   },
   "outputs": [],
   "source": [
    "fire_df.head()"
   ]
  },
  {
   "cell_type": "markdown",
   "metadata": {},
   "source": [
    "Export this to disk to be used by the analysis notebook - used gzip compression to save on space. Beware, because of there are approximation 10 million rows of data, this may take some time."
   ]
  },
  {
   "cell_type": "code",
   "execution_count": null,
   "metadata": {
    "collapsed": false
   },
   "outputs": [],
   "source": [
    "savepath = os.path.expanduser(outPath)\n",
    "fire_df.to_csv(savepath, index=False)"
   ]
  },
  {
   "cell_type": "markdown",
   "metadata": {},
   "source": [
    "<div>\n",
    "<br>\n",
    "<br>\n",
    "<br>\n",
    "<center>\n",
    "<font size=\"5\">\n",
    "<a style=\"font-weight: bold; size: 5\" href=\"http://localhost:8888/notebooks/notebooks/bayesian_inference.ipynb\">Part 2: click here</a>\n",
    "</font>\n",
    "</center>\n",
    "</div>"
   ]
  }
 ],
 "metadata": {
  "kernelspec": {
   "display_name": "Python 3",
   "language": "python",
   "name": "python3"
  },
  "language_info": {
   "codemirror_mode": {
    "name": "ipython",
    "version": 3
   },
   "file_extension": ".py",
   "mimetype": "text/x-python",
   "name": "python",
   "nbconvert_exporter": "python",
   "pygments_lexer": "ipython3",
   "version": "3.6.0"
  }
 },
 "nbformat": 4,
 "nbformat_minor": 0
}
